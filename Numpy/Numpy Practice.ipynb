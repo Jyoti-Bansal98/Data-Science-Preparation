{
 "cells": [
  {
   "cell_type": "markdown",
   "id": "c80607e7-ad5c-42c0-98a2-ccf4596078f9",
   "metadata": {},
   "source": [
    "# Numpy practice"
   ]
  },
  {
   "cell_type": "code",
   "execution_count": 3,
   "id": "27d1ae96-1174-4716-a72a-57ba8fb8842c",
   "metadata": {},
   "outputs": [],
   "source": [
    "import numpy as np"
   ]
  },
  {
   "cell_type": "code",
   "execution_count": 2,
   "id": "63a6b445-bfd0-4924-99ba-e86458fa1ecf",
   "metadata": {},
   "outputs": [],
   "source": [
    "myarr = np.array([5,75,63])"
   ]
  },
  {
   "cell_type": "code",
   "execution_count": 3,
   "id": "7edd7303-9348-4b33-bc7e-86e4acf48d46",
   "metadata": {},
   "outputs": [
    {
     "data": {
      "text/plain": [
       "array([ 5, 75, 63])"
      ]
     },
     "execution_count": 3,
     "metadata": {},
     "output_type": "execute_result"
    }
   ],
   "source": [
    "myarr"
   ]
  },
  {
   "cell_type": "code",
   "execution_count": 4,
   "id": "5407dd1b-b627-4295-a1a3-1e4cbbfd68c7",
   "metadata": {},
   "outputs": [
    {
     "name": "stdout",
     "output_type": "stream",
     "text": [
      "[1 2 3]\n"
     ]
    }
   ],
   "source": [
    "a = np.array([1,2,3], dtype = 'int32')\n",
    "print(a)"
   ]
  },
  {
   "cell_type": "code",
   "execution_count": 4,
   "id": "df1f264b-fd27-4919-a711-d20d2d002791",
   "metadata": {},
   "outputs": [
    {
     "name": "stdout",
     "output_type": "stream",
     "text": [
      "[[9 5 3]\n",
      " [6 2 6]]\n"
     ]
    }
   ],
   "source": [
    "b = np.array([[9,5,3],[6,2,6]])\n",
    "print(b)"
   ]
  },
  {
   "cell_type": "code",
   "execution_count": 6,
   "id": "f7e4e15c-4f08-4588-bae4-326146dd1c95",
   "metadata": {},
   "outputs": [
    {
     "data": {
      "text/plain": [
       "2"
      ]
     },
     "execution_count": 6,
     "metadata": {},
     "output_type": "execute_result"
    }
   ],
   "source": [
    "# Get Dimensions\n",
    "b.ndim"
   ]
  },
  {
   "cell_type": "code",
   "execution_count": 7,
   "id": "3087b964-7bb5-463b-858f-0fc32c4c9971",
   "metadata": {},
   "outputs": [
    {
     "data": {
      "text/plain": [
       "(2, 3)"
      ]
     },
     "execution_count": 7,
     "metadata": {},
     "output_type": "execute_result"
    }
   ],
   "source": [
    "# Get Shape\n",
    "b.shape"
   ]
  },
  {
   "cell_type": "code",
   "execution_count": 8,
   "id": "05025384-c12e-4479-996e-3db2d85c07b5",
   "metadata": {},
   "outputs": [
    {
     "data": {
      "text/plain": [
       "dtype('int32')"
      ]
     },
     "execution_count": 8,
     "metadata": {},
     "output_type": "execute_result"
    }
   ],
   "source": [
    "# get Type\n",
    "a.dtype"
   ]
  },
  {
   "cell_type": "code",
   "execution_count": 5,
   "id": "76bf7b8b-f49a-4042-babc-0ae56022f18c",
   "metadata": {},
   "outputs": [
    {
     "data": {
      "text/plain": [
       "8"
      ]
     },
     "execution_count": 5,
     "metadata": {},
     "output_type": "execute_result"
    }
   ],
   "source": [
    "# Get Size \n",
    "b.itemsize"
   ]
  },
  {
   "cell_type": "code",
   "execution_count": 10,
   "id": "897e56d0-c41b-4632-a86e-4cab9cc9734a",
   "metadata": {},
   "outputs": [],
   "source": [
    "myarr = np.array([[4,32,44,5]],np.int64)"
   ]
  },
  {
   "cell_type": "code",
   "execution_count": 11,
   "id": "62b159cd-9935-4355-99d3-2756eb89c8d1",
   "metadata": {},
   "outputs": [
    {
     "data": {
      "text/plain": [
       "array([[ 4, 32, 44,  5]])"
      ]
     },
     "execution_count": 11,
     "metadata": {},
     "output_type": "execute_result"
    }
   ],
   "source": [
    "myarr"
   ]
  },
  {
   "cell_type": "code",
   "execution_count": 12,
   "id": "25fee282-92fe-4a6c-a948-64f252838546",
   "metadata": {},
   "outputs": [
    {
     "data": {
      "text/plain": [
       "np.int64(5)"
      ]
     },
     "execution_count": 12,
     "metadata": {},
     "output_type": "execute_result"
    }
   ],
   "source": [
    "myarr[0,3]"
   ]
  },
  {
   "cell_type": "code",
   "execution_count": 13,
   "id": "402e73da-4d75-45cd-8e69-f68c66271caa",
   "metadata": {},
   "outputs": [
    {
     "data": {
      "text/plain": [
       "(1, 4)"
      ]
     },
     "execution_count": 13,
     "metadata": {},
     "output_type": "execute_result"
    }
   ],
   "source": [
    "myarr.shape"
   ]
  },
  {
   "cell_type": "code",
   "execution_count": 14,
   "id": "c1c7d6da-e9ac-4eed-a5be-ec73cabe5453",
   "metadata": {},
   "outputs": [
    {
     "data": {
      "text/plain": [
       "dtype('int64')"
      ]
     },
     "execution_count": 14,
     "metadata": {},
     "output_type": "execute_result"
    }
   ],
   "source": [
    "myarr.dtype"
   ]
  },
  {
   "cell_type": "code",
   "execution_count": 15,
   "id": "c24424ee-2c5c-4439-a434-1db4a487f5fd",
   "metadata": {},
   "outputs": [],
   "source": [
    " myarr[0,2]= 55"
   ]
  },
  {
   "cell_type": "code",
   "execution_count": 16,
   "id": "6b977434-3bad-43f3-8ddf-579da120db37",
   "metadata": {},
   "outputs": [
    {
     "data": {
      "text/plain": [
       "array([[ 4, 32, 55,  5]])"
      ]
     },
     "execution_count": 16,
     "metadata": {},
     "output_type": "execute_result"
    }
   ],
   "source": [
    "myarr"
   ]
  },
  {
   "cell_type": "markdown",
   "id": "cb49efbc-c8c9-41ef-88f1-e284fa19518d",
   "metadata": {},
   "source": [
    "# Array creation: conversion from other python structure"
   ]
  },
  {
   "cell_type": "code",
   "execution_count": 17,
   "id": "2dbadf78-a183-4988-acc7-a177943b12ff",
   "metadata": {},
   "outputs": [],
   "source": [
    "listarray = np.array([[1,1,2],[6,5,8],[87,5,334]])"
   ]
  },
  {
   "cell_type": "code",
   "execution_count": 18,
   "id": "2612f188-0e61-42d1-bff0-a69ab607d466",
   "metadata": {},
   "outputs": [
    {
     "data": {
      "text/plain": [
       "array([[  1,   1,   2],\n",
       "       [  6,   5,   8],\n",
       "       [ 87,   5, 334]])"
      ]
     },
     "execution_count": 18,
     "metadata": {},
     "output_type": "execute_result"
    }
   ],
   "source": [
    "listarray"
   ]
  },
  {
   "cell_type": "code",
   "execution_count": 19,
   "id": "8cb54a1e-0db6-4f7a-b506-84a3f183d0a3",
   "metadata": {},
   "outputs": [
    {
     "data": {
      "text/plain": [
       "dtype('int64')"
      ]
     },
     "execution_count": 19,
     "metadata": {},
     "output_type": "execute_result"
    }
   ],
   "source": [
    "listarray.dtype"
   ]
  },
  {
   "cell_type": "code",
   "execution_count": 20,
   "id": "585efcd7-df0c-4c16-ae21-f7c780cd77a1",
   "metadata": {},
   "outputs": [
    {
     "data": {
      "text/plain": [
       "(3, 3)"
      ]
     },
     "execution_count": 20,
     "metadata": {},
     "output_type": "execute_result"
    }
   ],
   "source": [
    "listarray.shape"
   ]
  },
  {
   "cell_type": "code",
   "execution_count": 21,
   "id": "046f91d5-774c-4f7e-a38d-c6f56c32bdfc",
   "metadata": {},
   "outputs": [
    {
     "data": {
      "text/plain": [
       "9"
      ]
     },
     "execution_count": 21,
     "metadata": {},
     "output_type": "execute_result"
    }
   ],
   "source": [
    "listarray.size"
   ]
  },
  {
   "cell_type": "code",
   "execution_count": 22,
   "id": "e247e729-6aa7-4540-b1a3-a3eb535541d0",
   "metadata": {},
   "outputs": [
    {
     "data": {
      "text/plain": [
       "array({64, 65, 33}, dtype=object)"
      ]
     },
     "execution_count": 22,
     "metadata": {},
     "output_type": "execute_result"
    }
   ],
   "source": [
    "np.array({33,65,64})"
   ]
  },
  {
   "cell_type": "code",
   "execution_count": 23,
   "id": "d89dceda-6133-462e-9a30-236ea6e54445",
   "metadata": {},
   "outputs": [],
   "source": [
    "zeros = np.zeros((2,6))"
   ]
  },
  {
   "cell_type": "code",
   "execution_count": 24,
   "id": "b7185abc-e151-4f27-854a-4019daea9f6e",
   "metadata": {},
   "outputs": [
    {
     "data": {
      "text/plain": [
       "array([[0., 0., 0., 0., 0., 0.],\n",
       "       [0., 0., 0., 0., 0., 0.]])"
      ]
     },
     "execution_count": 24,
     "metadata": {},
     "output_type": "execute_result"
    }
   ],
   "source": [
    "zeros"
   ]
  },
  {
   "cell_type": "code",
   "execution_count": 25,
   "id": "0c0bf6a2-6f8e-462a-97c8-9eb618e0d19a",
   "metadata": {},
   "outputs": [
    {
     "data": {
      "text/plain": [
       "12"
      ]
     },
     "execution_count": 25,
     "metadata": {},
     "output_type": "execute_result"
    }
   ],
   "source": [
    "#zeros.dtype\n",
    "zeros.size\n",
    "#zeros.shape"
   ]
  },
  {
   "cell_type": "code",
   "execution_count": 26,
   "id": "0af8de05-3912-4dfe-b3cc-3525e0295ce3",
   "metadata": {},
   "outputs": [
    {
     "name": "stdout",
     "output_type": "stream",
     "text": [
      "[ 0  1  2  3  4  5  6  7  8  9 10 11 12 13 14]\n"
     ]
    }
   ],
   "source": [
    "print(np.arange(15))"
   ]
  },
  {
   "cell_type": "code",
   "execution_count": 27,
   "id": "7282bafc-7233-41ad-9434-95a7546f6298",
   "metadata": {},
   "outputs": [],
   "source": [
    "linspace = np.linspace(1,5,12)  # 1-5 ke bich equally spaced 12 elements dega"
   ]
  },
  {
   "cell_type": "code",
   "execution_count": 28,
   "id": "e45b01f0-5b7f-4999-bd11-539438fb52a7",
   "metadata": {},
   "outputs": [
    {
     "data": {
      "text/plain": [
       "array([1.        , 1.36363636, 1.72727273, 2.09090909, 2.45454545,\n",
       "       2.81818182, 3.18181818, 3.54545455, 3.90909091, 4.27272727,\n",
       "       4.63636364, 5.        ])"
      ]
     },
     "execution_count": 28,
     "metadata": {},
     "output_type": "execute_result"
    }
   ],
   "source": [
    "linspace"
   ]
  },
  {
   "cell_type": "code",
   "execution_count": 29,
   "id": "8b76698e-73d4-46f8-90d0-4dd0dcfed686",
   "metadata": {},
   "outputs": [],
   "source": [
    "emp = np.empty((4,6))"
   ]
  },
  {
   "cell_type": "code",
   "execution_count": 30,
   "id": "08448121-58a8-435a-885a-0444326f765c",
   "metadata": {},
   "outputs": [
    {
     "data": {
      "text/plain": [
       "array([[6.23042070e-307, 4.67296746e-307, 1.69121096e-306,\n",
       "        1.37962796e-306, 2.00262080e-307, 7.56603202e-307],\n",
       "       [1.42413555e-306, 1.78019082e-306, 1.37960147e-306,\n",
       "        1.33511562e-306, 2.22518251e-306, 1.33511969e-306],\n",
       "       [1.78022342e-306, 1.05700345e-307, 1.69118108e-306,\n",
       "        8.06632139e-308, 1.20160711e-306, 1.69119330e-306],\n",
       "       [1.29062229e-306, 6.89804133e-307, 1.11261298e-306,\n",
       "        6.89804132e-307, 1.11261162e-306, 8.34443015e-308]])"
      ]
     },
     "execution_count": 30,
     "metadata": {},
     "output_type": "execute_result"
    }
   ],
   "source": [
    "emp"
   ]
  },
  {
   "cell_type": "code",
   "execution_count": 31,
   "id": "ccd71340-13cf-4831-b2bb-d4ee4ef45a0f",
   "metadata": {},
   "outputs": [],
   "source": [
    "emp_like = np.empty_like(linspace) "
   ]
  },
  {
   "cell_type": "code",
   "execution_count": 32,
   "id": "d4ac70fd-2db7-4ed2-805c-07bbbfe2e0c1",
   "metadata": {},
   "outputs": [
    {
     "data": {
      "text/plain": [
       "array([1.        , 1.36363636, 1.72727273, 2.09090909, 2.45454545,\n",
       "       2.81818182, 3.18181818, 3.54545455, 3.90909091, 4.27272727,\n",
       "       4.63636364, 5.        ])"
      ]
     },
     "execution_count": 32,
     "metadata": {},
     "output_type": "execute_result"
    }
   ],
   "source": [
    "emp_like"
   ]
  },
  {
   "cell_type": "code",
   "execution_count": 33,
   "id": "ee4a0169-a050-44f5-9f34-16ca3f90bcfa",
   "metadata": {},
   "outputs": [],
   "source": [
    "ide = np.identity(45)"
   ]
  },
  {
   "cell_type": "code",
   "execution_count": 34,
   "id": "33f666dc-d04b-4d9d-a8d9-fb92ea68fcd5",
   "metadata": {},
   "outputs": [
    {
     "data": {
      "text/plain": [
       "array([[1., 0., 0., ..., 0., 0., 0.],\n",
       "       [0., 1., 0., ..., 0., 0., 0.],\n",
       "       [0., 0., 1., ..., 0., 0., 0.],\n",
       "       ...,\n",
       "       [0., 0., 0., ..., 1., 0., 0.],\n",
       "       [0., 0., 0., ..., 0., 1., 0.],\n",
       "       [0., 0., 0., ..., 0., 0., 1.]], shape=(45, 45))"
      ]
     },
     "execution_count": 34,
     "metadata": {},
     "output_type": "execute_result"
    }
   ],
   "source": [
    "ide"
   ]
  },
  {
   "cell_type": "code",
   "execution_count": 6,
   "id": "2e0cbd11-1c66-4a31-83fd-b3dadb0ade02",
   "metadata": {},
   "outputs": [],
   "source": [
    "array = np.arange(50)"
   ]
  },
  {
   "cell_type": "code",
   "execution_count": 7,
   "id": "eb8e8d81-6921-48bd-b87a-ea16df7d4d92",
   "metadata": {},
   "outputs": [
    {
     "data": {
      "text/plain": [
       "array([ 0,  1,  2,  3,  4,  5,  6,  7,  8,  9, 10, 11, 12, 13, 14, 15, 16,\n",
       "       17, 18, 19, 20, 21, 22, 23, 24, 25, 26, 27, 28, 29, 30, 31, 32, 33,\n",
       "       34, 35, 36, 37, 38, 39, 40, 41, 42, 43, 44, 45, 46, 47, 48, 49])"
      ]
     },
     "execution_count": 7,
     "metadata": {},
     "output_type": "execute_result"
    }
   ],
   "source": [
    "array"
   ]
  },
  {
   "cell_type": "code",
   "execution_count": 8,
   "id": "f37c4663-92a4-4105-a2fc-2826b850654e",
   "metadata": {},
   "outputs": [],
   "source": [
    " array = array.reshape(5,10) #multipl.. should be eql to previous array"
   ]
  },
  {
   "cell_type": "code",
   "execution_count": 9,
   "id": "64ae26ba-9a38-4798-96b1-b322b7fe00ae",
   "metadata": {},
   "outputs": [
    {
     "data": {
      "text/plain": [
       "array([[ 0,  1,  2,  3,  4,  5,  6,  7,  8,  9],\n",
       "       [10, 11, 12, 13, 14, 15, 16, 17, 18, 19],\n",
       "       [20, 21, 22, 23, 24, 25, 26, 27, 28, 29],\n",
       "       [30, 31, 32, 33, 34, 35, 36, 37, 38, 39],\n",
       "       [40, 41, 42, 43, 44, 45, 46, 47, 48, 49]])"
      ]
     },
     "execution_count": 9,
     "metadata": {},
     "output_type": "execute_result"
    }
   ],
   "source": [
    "array"
   ]
  },
  {
   "cell_type": "code",
   "execution_count": 39,
   "id": "9c595db3-c1d3-4c17-8191-d01926fad51e",
   "metadata": {},
   "outputs": [],
   "source": [
    "array = array.ravel()"
   ]
  },
  {
   "cell_type": "code",
   "execution_count": 40,
   "id": "4b0096e2-24c4-4cf2-93af-3ef7d91172f9",
   "metadata": {},
   "outputs": [
    {
     "data": {
      "text/plain": [
       "array([ 0,  1,  2,  3,  4,  5,  6,  7,  8,  9, 10, 11, 12, 13, 14, 15, 16,\n",
       "       17, 18, 19, 20, 21, 22, 23, 24, 25, 26, 27, 28, 29, 30, 31, 32, 33,\n",
       "       34, 35, 36, 37, 38, 39, 40, 41, 42, 43, 44, 45, 46, 47, 48, 49])"
      ]
     },
     "execution_count": 40,
     "metadata": {},
     "output_type": "execute_result"
    }
   ],
   "source": [
    "array"
   ]
  },
  {
   "cell_type": "code",
   "execution_count": 41,
   "id": "5fb860b6-1c9e-47ab-8705-b7bb485fad26",
   "metadata": {},
   "outputs": [
    {
     "data": {
      "text/plain": [
       "(50,)"
      ]
     },
     "execution_count": 41,
     "metadata": {},
     "output_type": "execute_result"
    }
   ],
   "source": [
    "array.shape"
   ]
  },
  {
   "cell_type": "markdown",
   "id": "ded3db13-0238-4ee7-867c-dae7cffc10a7",
   "metadata": {},
   "source": [
    "**Numpy Axis**"
   ]
  },
  {
   "cell_type": "code",
   "execution_count": 42,
   "id": "fae1c343-c95c-415b-83cd-24341fe3075d",
   "metadata": {},
   "outputs": [],
   "source": [
    "x = [[1,2,3],[4,5,6],[7,1,0]]"
   ]
  },
  {
   "cell_type": "code",
   "execution_count": 43,
   "id": "63613389-8cdc-44a4-b783-fe07149600b7",
   "metadata": {},
   "outputs": [],
   "source": [
    "arr = np.array(x)"
   ]
  },
  {
   "cell_type": "code",
   "execution_count": 44,
   "id": "b86352d6-4def-49fa-ab6c-6c5a6c307f2d",
   "metadata": {},
   "outputs": [
    {
     "data": {
      "text/plain": [
       "array([[1, 2, 3],\n",
       "       [4, 5, 6],\n",
       "       [7, 1, 0]])"
      ]
     },
     "execution_count": 44,
     "metadata": {},
     "output_type": "execute_result"
    }
   ],
   "source": [
    "arr"
   ]
  },
  {
   "cell_type": "code",
   "execution_count": 45,
   "id": "32f7d7a1-ff55-4928-9510-f14bce08fe43",
   "metadata": {},
   "outputs": [
    {
     "data": {
      "text/plain": [
       "array([12,  8,  9])"
      ]
     },
     "execution_count": 45,
     "metadata": {},
     "output_type": "execute_result"
    }
   ],
   "source": [
    "arr.sum(axis = 0)"
   ]
  },
  {
   "cell_type": "code",
   "execution_count": 46,
   "id": "9c33cc63-06f1-4d9f-836e-38ca7775cf17",
   "metadata": {},
   "outputs": [
    {
     "data": {
      "text/plain": [
       "array([ 6, 15,  8])"
      ]
     },
     "execution_count": 46,
     "metadata": {},
     "output_type": "execute_result"
    }
   ],
   "source": [
    "arr.sum(axis = 1)"
   ]
  },
  {
   "cell_type": "code",
   "execution_count": 47,
   "id": "be1112d1-cbb4-483e-bcf1-c12d48bba923",
   "metadata": {},
   "outputs": [
    {
     "data": {
      "text/plain": [
       "array([[1, 4, 7],\n",
       "       [2, 5, 1],\n",
       "       [3, 6, 0]])"
      ]
     },
     "execution_count": 47,
     "metadata": {},
     "output_type": "execute_result"
    }
   ],
   "source": [
    " arr.T     # transpose the array"
   ]
  },
  {
   "cell_type": "code",
   "execution_count": 48,
   "id": "de429754-9ee9-4391-8f2b-b97563cfbc9a",
   "metadata": {},
   "outputs": [
    {
     "data": {
      "text/plain": [
       "<numpy.flatiter at 0x22fdf08bc20>"
      ]
     },
     "execution_count": 48,
     "metadata": {},
     "output_type": "execute_result"
    }
   ],
   "source": [
    "arr.flat"
   ]
  },
  {
   "cell_type": "code",
   "execution_count": 49,
   "id": "3d9ed025-3a99-4c2c-a19d-805e577db6fe",
   "metadata": {},
   "outputs": [
    {
     "name": "stdout",
     "output_type": "stream",
     "text": [
      "1\n",
      "2\n",
      "3\n",
      "4\n",
      "5\n",
      "6\n",
      "7\n",
      "1\n",
      "0\n"
     ]
    }
   ],
   "source": [
    "for item in arr.flat:\n",
    "    print(item)"
   ]
  },
  {
   "cell_type": "code",
   "execution_count": 50,
   "id": "41925540-6cea-4001-afa0-300457cfe9a7",
   "metadata": {},
   "outputs": [
    {
     "data": {
      "text/plain": [
       "2"
      ]
     },
     "execution_count": 50,
     "metadata": {},
     "output_type": "execute_result"
    }
   ],
   "source": [
    "arr.ndim"
   ]
  },
  {
   "cell_type": "code",
   "execution_count": 51,
   "id": "8696324c-f5aa-461f-92a9-dfcb254a5a43",
   "metadata": {},
   "outputs": [
    {
     "data": {
      "text/plain": [
       "9"
      ]
     },
     "execution_count": 51,
     "metadata": {},
     "output_type": "execute_result"
    }
   ],
   "source": [
    "arr.size"
   ]
  },
  {
   "cell_type": "code",
   "execution_count": 52,
   "id": "96b7ef4b-e4d5-46a0-930a-41b0e8aa8f96",
   "metadata": {},
   "outputs": [
    {
     "data": {
      "text/plain": [
       "(3, 3)"
      ]
     },
     "execution_count": 52,
     "metadata": {},
     "output_type": "execute_result"
    }
   ],
   "source": [
    "arr.shape"
   ]
  },
  {
   "cell_type": "code",
   "execution_count": 53,
   "id": "2155beca-1cd3-4907-ab61-608c8f3eb077",
   "metadata": {},
   "outputs": [
    {
     "data": {
      "text/plain": [
       "72"
      ]
     },
     "execution_count": 53,
     "metadata": {},
     "output_type": "execute_result"
    }
   ],
   "source": [
    "arr.nbytes"
   ]
  },
  {
   "cell_type": "code",
   "execution_count": 54,
   "id": "3788338a-dd07-4cc4-82b1-6f8e515bc798",
   "metadata": {},
   "outputs": [],
   "source": [
    "one = np.array([1,6,99,87])"
   ]
  },
  {
   "cell_type": "code",
   "execution_count": 55,
   "id": "970c4a77-cceb-4059-ab4e-a908b1e1913b",
   "metadata": {},
   "outputs": [
    {
     "data": {
      "text/plain": [
       "array([ 1,  6, 99, 87])"
      ]
     },
     "execution_count": 55,
     "metadata": {},
     "output_type": "execute_result"
    }
   ],
   "source": [
    "one"
   ]
  },
  {
   "cell_type": "code",
   "execution_count": 56,
   "id": "9086e786-e4a0-4370-abfb-49b19a215d2c",
   "metadata": {},
   "outputs": [
    {
     "data": {
      "text/plain": [
       "1"
      ]
     },
     "execution_count": 56,
     "metadata": {},
     "output_type": "execute_result"
    }
   ],
   "source": [
    "one.ndim"
   ]
  },
  {
   "cell_type": "code",
   "execution_count": 57,
   "id": "b4926faf-5f75-4cf5-9f1b-892a89b2ebb6",
   "metadata": {},
   "outputs": [
    {
     "data": {
      "text/plain": [
       "np.int64(193)"
      ]
     },
     "execution_count": 57,
     "metadata": {},
     "output_type": "execute_result"
    }
   ],
   "source": [
    "one.sum(axis = 0)"
   ]
  },
  {
   "cell_type": "code",
   "execution_count": 58,
   "id": "ff664907-f8de-4b67-91b1-670327f24fbc",
   "metadata": {},
   "outputs": [
    {
     "data": {
      "text/plain": [
       "np.int64(2)"
      ]
     },
     "execution_count": 58,
     "metadata": {},
     "output_type": "execute_result"
    }
   ],
   "source": [
    "one.argmax()   #gives index of max element "
   ]
  },
  {
   "cell_type": "code",
   "execution_count": 59,
   "id": "18320a4f-c8b1-4683-b4b3-d187435c0b6e",
   "metadata": {},
   "outputs": [
    {
     "data": {
      "text/plain": [
       "np.int64(0)"
      ]
     },
     "execution_count": 59,
     "metadata": {},
     "output_type": "execute_result"
    }
   ],
   "source": [
    "one.argmin()   #gives index of min element"
   ]
  },
  {
   "cell_type": "code",
   "execution_count": 60,
   "id": "3e639d98-9648-440f-8b7d-e373e606b413",
   "metadata": {},
   "outputs": [
    {
     "data": {
      "text/plain": [
       "array([0, 1, 3, 2])"
      ]
     },
     "execution_count": 60,
     "metadata": {},
     "output_type": "execute_result"
    }
   ],
   "source": [
    "one.argsort()   # give the indexes to sort array"
   ]
  },
  {
   "cell_type": "code",
   "execution_count": 61,
   "id": "ce3cb451-7eed-460a-a43e-fdfcffeac401",
   "metadata": {},
   "outputs": [
    {
     "data": {
      "text/plain": [
       "array([[1, 2, 3],\n",
       "       [4, 5, 6],\n",
       "       [7, 1, 0]])"
      ]
     },
     "execution_count": 61,
     "metadata": {},
     "output_type": "execute_result"
    }
   ],
   "source": [
    "arr"
   ]
  },
  {
   "cell_type": "code",
   "execution_count": 62,
   "id": "b94ed6df-cb8e-4f2e-bae3-7d67d48e4c50",
   "metadata": {},
   "outputs": [
    {
     "data": {
      "text/plain": [
       "array([[0, 1, 2],\n",
       "       [0, 1, 2],\n",
       "       [2, 1, 0]])"
      ]
     },
     "execution_count": 62,
     "metadata": {},
     "output_type": "execute_result"
    }
   ],
   "source": [
    "arr.argsort()"
   ]
  },
  {
   "cell_type": "code",
   "execution_count": 63,
   "id": "00d88d47-4b64-4405-ae57-56fc4a553fa2",
   "metadata": {},
   "outputs": [
    {
     "data": {
      "text/plain": [
       "np.int64(8)"
      ]
     },
     "execution_count": 63,
     "metadata": {},
     "output_type": "execute_result"
    }
   ],
   "source": [
    "arr.argmin()   #gives index of min element after flattening it"
   ]
  },
  {
   "cell_type": "code",
   "execution_count": 64,
   "id": "f7a45e62-a9fd-47f3-8fb1-cc0fd0013c30",
   "metadata": {},
   "outputs": [
    {
     "data": {
      "text/plain": [
       "np.int64(6)"
      ]
     },
     "execution_count": 64,
     "metadata": {},
     "output_type": "execute_result"
    }
   ],
   "source": [
    "arr.argmax()"
   ]
  },
  {
   "cell_type": "code",
   "execution_count": 65,
   "id": "1e3b2ad3-5cf6-44d9-83f2-c6a15a489596",
   "metadata": {},
   "outputs": [
    {
     "data": {
      "text/plain": [
       "array([2, 1, 1])"
      ]
     },
     "execution_count": 65,
     "metadata": {},
     "output_type": "execute_result"
    }
   ],
   "source": [
    "arr.argmax(axis = 0)"
   ]
  },
  {
   "cell_type": "code",
   "execution_count": 66,
   "id": "408bc112-1130-47a0-862c-737086703b11",
   "metadata": {},
   "outputs": [
    {
     "data": {
      "text/plain": [
       "array([2, 2, 0])"
      ]
     },
     "execution_count": 66,
     "metadata": {},
     "output_type": "execute_result"
    }
   ],
   "source": [
    "arr.argmax(axis = 1)"
   ]
  },
  {
   "cell_type": "code",
   "execution_count": 67,
   "id": "5739aaf2-26ae-4f01-9545-fea0b22519cd",
   "metadata": {},
   "outputs": [
    {
     "data": {
      "text/plain": [
       "array([[0, 1, 2],\n",
       "       [0, 1, 2],\n",
       "       [2, 1, 0]])"
      ]
     },
     "execution_count": 67,
     "metadata": {},
     "output_type": "execute_result"
    }
   ],
   "source": [
    "arr.argsort(axis = 1)"
   ]
  },
  {
   "cell_type": "code",
   "execution_count": 68,
   "id": "beb4cd8a-b3d4-4ef9-b5fe-4d2b4139e152",
   "metadata": {},
   "outputs": [
    {
     "data": {
      "text/plain": [
       "array([[0, 2, 2],\n",
       "       [1, 0, 0],\n",
       "       [2, 1, 1]])"
      ]
     },
     "execution_count": 68,
     "metadata": {},
     "output_type": "execute_result"
    }
   ],
   "source": [
    "arr.argsort(axis = 0)"
   ]
  },
  {
   "cell_type": "code",
   "execution_count": 69,
   "id": "defb752a-cda0-40d3-940f-5a8c5aa085f3",
   "metadata": {},
   "outputs": [
    {
     "data": {
      "text/plain": [
       "array([1, 2, 3, 4, 5, 6, 7, 1, 0])"
      ]
     },
     "execution_count": 69,
     "metadata": {},
     "output_type": "execute_result"
    }
   ],
   "source": [
    "arr.ravel()"
   ]
  },
  {
   "cell_type": "code",
   "execution_count": 70,
   "id": "0f97cb15-df2b-49ec-a212-a69fa2368065",
   "metadata": {},
   "outputs": [
    {
     "data": {
      "text/plain": [
       "array([[1, 2, 3],\n",
       "       [4, 5, 6],\n",
       "       [7, 1, 0]])"
      ]
     },
     "execution_count": 70,
     "metadata": {},
     "output_type": "execute_result"
    }
   ],
   "source": [
    "arr.reshape((3,3))"
   ]
  },
  {
   "cell_type": "code",
   "execution_count": 71,
   "id": "a651ee37-e0fb-4ff5-923d-eec4dcf1208e",
   "metadata": {},
   "outputs": [],
   "source": [
    "arr2 = np.array([[1, 2, 1],\n",
    "       [4, 0, 6],\n",
    "       [8, 1, 0]])"
   ]
  },
  {
   "cell_type": "code",
   "execution_count": 72,
   "id": "c14beba4-b70b-4d81-a52a-09b585732188",
   "metadata": {},
   "outputs": [
    {
     "data": {
      "text/plain": [
       "array([[1, 2, 1],\n",
       "       [4, 0, 6],\n",
       "       [8, 1, 0]])"
      ]
     },
     "execution_count": 72,
     "metadata": {},
     "output_type": "execute_result"
    }
   ],
   "source": [
    "arr2"
   ]
  },
  {
   "cell_type": "code",
   "execution_count": 73,
   "id": "31c32221-e0fe-4e81-8af0-f0843a0fb5b5",
   "metadata": {},
   "outputs": [
    {
     "data": {
      "text/plain": [
       "array([[ 2,  4,  4],\n",
       "       [ 8,  5, 12],\n",
       "       [15,  2,  0]])"
      ]
     },
     "execution_count": 73,
     "metadata": {},
     "output_type": "execute_result"
    }
   ],
   "source": [
    "arr + arr2"
   ]
  },
  {
   "cell_type": "code",
   "execution_count": 74,
   "id": "2b5515b9-86d9-43e8-bf35-13f85a249b7b",
   "metadata": {},
   "outputs": [
    {
     "data": {
      "text/plain": [
       "array([[ 1,  4,  3],\n",
       "       [16,  0, 36],\n",
       "       [56,  1,  0]])"
      ]
     },
     "execution_count": 74,
     "metadata": {},
     "output_type": "execute_result"
    }
   ],
   "source": [
    "arr * arr2"
   ]
  },
  {
   "cell_type": "code",
   "execution_count": 75,
   "id": "5d7e0bb8-a5ab-4b33-8a13-9146cf077725",
   "metadata": {},
   "outputs": [
    {
     "data": {
      "text/plain": [
       "array([[ 0,  0,  2],\n",
       "       [ 0,  5,  0],\n",
       "       [-1,  0,  0]])"
      ]
     },
     "execution_count": 75,
     "metadata": {},
     "output_type": "execute_result"
    }
   ],
   "source": [
    "arr - arr2"
   ]
  },
  {
   "cell_type": "code",
   "execution_count": 76,
   "id": "bef8beed-790c-4fc2-bab4-0fbce3e739e4",
   "metadata": {},
   "outputs": [
    {
     "data": {
      "text/plain": [
       "array([[1.41421356, 2.        , 2.        ],\n",
       "       [2.82842712, 2.23606798, 3.46410162],\n",
       "       [3.87298335, 1.41421356, 0.        ]])"
      ]
     },
     "execution_count": 76,
     "metadata": {},
     "output_type": "execute_result"
    }
   ],
   "source": [
    "np.sqrt(arr+arr2)"
   ]
  },
  {
   "cell_type": "code",
   "execution_count": 77,
   "id": "d3d95c57-9375-4bf4-ab2c-1e817b38cdfb",
   "metadata": {},
   "outputs": [
    {
     "data": {
      "text/plain": [
       "np.int64(29)"
      ]
     },
     "execution_count": 77,
     "metadata": {},
     "output_type": "execute_result"
    }
   ],
   "source": [
    "arr.sum()"
   ]
  },
  {
   "cell_type": "code",
   "execution_count": 78,
   "id": "de6b10dd-2f22-4247-9354-51d3ecb08122",
   "metadata": {},
   "outputs": [
    {
     "data": {
      "text/plain": [
       "np.int64(7)"
      ]
     },
     "execution_count": 78,
     "metadata": {},
     "output_type": "execute_result"
    }
   ],
   "source": [
    "arr.max()"
   ]
  },
  {
   "cell_type": "code",
   "execution_count": 79,
   "id": "3d73cfe5-5659-4706-bc60-9e4d3d506089",
   "metadata": {},
   "outputs": [
    {
     "data": {
      "text/plain": [
       "np.int64(0)"
      ]
     },
     "execution_count": 79,
     "metadata": {},
     "output_type": "execute_result"
    }
   ],
   "source": [
    "arr.min()"
   ]
  },
  {
   "cell_type": "code",
   "execution_count": 80,
   "id": "c1edaee3-fc3e-4623-a05f-2373f479981b",
   "metadata": {},
   "outputs": [
    {
     "data": {
      "text/plain": [
       "array([[1, 2, 3],\n",
       "       [4, 5, 6],\n",
       "       [7, 1, 0]])"
      ]
     },
     "execution_count": 80,
     "metadata": {},
     "output_type": "execute_result"
    }
   ],
   "source": [
    "arr"
   ]
  },
  {
   "cell_type": "code",
   "execution_count": 81,
   "id": "b8007b90-b059-4b83-80af-0ce96aa1b536",
   "metadata": {},
   "outputs": [
    {
     "data": {
      "text/plain": [
       "(array([1, 2]), array([2, 0]))"
      ]
     },
     "execution_count": 81,
     "metadata": {},
     "output_type": "execute_result"
    }
   ],
   "source": [
    "np.where(arr>5)"
   ]
  },
  {
   "cell_type": "code",
   "execution_count": 82,
   "id": "b7070beb-a5e6-450b-948d-a8d27821c3d2",
   "metadata": {},
   "outputs": [
    {
     "data": {
      "text/plain": [
       "tuple"
      ]
     },
     "execution_count": 82,
     "metadata": {},
     "output_type": "execute_result"
    }
   ],
   "source": [
    "type(np.where(arr>5))"
   ]
  },
  {
   "cell_type": "code",
   "execution_count": 83,
   "id": "642f9f4c-2eb5-402c-adbd-8e4a98dcab1b",
   "metadata": {},
   "outputs": [
    {
     "data": {
      "text/plain": [
       "8"
      ]
     },
     "execution_count": 83,
     "metadata": {},
     "output_type": "execute_result"
    }
   ],
   "source": [
    "np.count_nonzero(arr)"
   ]
  },
  {
   "cell_type": "code",
   "execution_count": 84,
   "id": "d072759c-74a4-4894-8888-02e5f4c88c62",
   "metadata": {},
   "outputs": [
    {
     "data": {
      "text/plain": [
       "(array([0, 0, 0, 1, 1, 1, 2, 2]), array([0, 1, 2, 0, 1, 2, 0, 1]))"
      ]
     },
     "execution_count": 84,
     "metadata": {},
     "output_type": "execute_result"
    }
   ],
   "source": [
    "np.nonzero(arr)"
   ]
  },
  {
   "cell_type": "code",
   "execution_count": 85,
   "id": "39ab9cf9-00f2-443c-9e85-1114b930e19c",
   "metadata": {},
   "outputs": [],
   "source": [
    "arr[1,2] = 0"
   ]
  },
  {
   "cell_type": "code",
   "execution_count": 86,
   "id": "22d556a4-e49a-42b7-ae9c-a77d0bab3b37",
   "metadata": {},
   "outputs": [
    {
     "data": {
      "text/plain": [
       "(array([0, 0, 0, 1, 1, 2, 2]), array([0, 1, 2, 0, 1, 0, 1]))"
      ]
     },
     "execution_count": 86,
     "metadata": {},
     "output_type": "execute_result"
    }
   ],
   "source": [
    "np.nonzero(arr)"
   ]
  },
  {
   "cell_type": "code",
   "execution_count": 87,
   "id": "5551bc8a-8fe5-4225-9319-38c95a3b9515",
   "metadata": {},
   "outputs": [],
   "source": [
    "import sys"
   ]
  },
  {
   "cell_type": "code",
   "execution_count": 88,
   "id": "af05f558-0c7d-4979-941d-3582f4794f3a",
   "metadata": {},
   "outputs": [],
   "source": [
    "py_ar = [0,4,55,2]"
   ]
  },
  {
   "cell_type": "code",
   "execution_count": 89,
   "id": "3c5d04f1-b201-4dff-bd2e-5c66ba72024e",
   "metadata": {},
   "outputs": [],
   "source": [
    "np_ar = np.array(py_ar)"
   ]
  },
  {
   "cell_type": "code",
   "execution_count": 90,
   "id": "3f277d4a-ba29-46e5-99d5-964d2c49a0d7",
   "metadata": {},
   "outputs": [
    {
     "data": {
      "text/plain": [
       "112"
      ]
     },
     "execution_count": 90,
     "metadata": {},
     "output_type": "execute_result"
    }
   ],
   "source": [
    "sys.getsizeof(1) * len(py_ar)"
   ]
  },
  {
   "cell_type": "code",
   "execution_count": 91,
   "id": "649e674c-2c4d-4399-a831-53ae30a98361",
   "metadata": {},
   "outputs": [
    {
     "data": {
      "text/plain": [
       "32"
      ]
     },
     "execution_count": 91,
     "metadata": {},
     "output_type": "execute_result"
    }
   ],
   "source": [
    "np_ar.itemsize * np_ar.size"
   ]
  },
  {
   "cell_type": "code",
   "execution_count": 92,
   "id": "b7964935-55ca-4601-acd9-19e20fbd9d21",
   "metadata": {},
   "outputs": [
    {
     "data": {
      "text/plain": [
       "[0, 4, 55, 2]"
      ]
     },
     "execution_count": 92,
     "metadata": {},
     "output_type": "execute_result"
    }
   ],
   "source": [
    "np_ar.tolist()"
   ]
  },
  {
   "cell_type": "code",
   "execution_count": 95,
   "id": "106d67fe-8297-43d8-abcb-331fa2ab33ad",
   "metadata": {},
   "outputs": [
    {
     "data": {
      "text/plain": [
       "array([[1, 4, 8],\n",
       "       [2, 0, 1],\n",
       "       [1, 6, 0]])"
      ]
     },
     "execution_count": 95,
     "metadata": {},
     "output_type": "execute_result"
    }
   ],
   "source": [
    "arr2.T"
   ]
  },
  {
   "cell_type": "code",
   "execution_count": null,
   "id": "6ec193c0-2f66-4ec2-bd65-266b6efaf8c8",
   "metadata": {},
   "outputs": [],
   "source": []
  }
 ],
 "metadata": {
  "kernelspec": {
   "display_name": "Python 3 (ipykernel)",
   "language": "python",
   "name": "python3"
  },
  "language_info": {
   "codemirror_mode": {
    "name": "ipython",
    "version": 3
   },
   "file_extension": ".py",
   "mimetype": "text/x-python",
   "name": "python",
   "nbconvert_exporter": "python",
   "pygments_lexer": "ipython3",
   "version": "3.13.5"
  }
 },
 "nbformat": 4,
 "nbformat_minor": 5
}
